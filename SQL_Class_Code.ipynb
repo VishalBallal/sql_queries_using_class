{
 "cells": [
  {
   "cell_type": "code",
   "execution_count": 4,
   "id": "375ae41c",
   "metadata": {},
   "outputs": [],
   "source": [
    "import psycopg2\n",
    "import sqlalchemy\n",
    "import pandas as pd\n",
    "\n",
    "class Connection: \n",
    "    def __init__(self, user, password, host, port, database):\n",
    "        try:\n",
    "            self.con=psycopg2.connect(\n",
    "                user=user,\n",
    "                password=password,\n",
    "                host=host,\n",
    "                port=port,\n",
    "                database=database\n",
    "            )\n",
    "            print('Connection Established Successfully')\n",
    "        except Exception as e:\n",
    "            print('Error ocuured due to',e)\n",
    "            \n",
    "    def create_table(self,table_name,schema):\n",
    "        query_create=\"create table if not exists {0}({1})\".format(table_name,schema)\n",
    "        cur=self.con.cursor()\n",
    "        cur.execute(query_create)\n",
    "        self.con.commit()\n",
    "        print('Table is Created')\n",
    "    \n",
    "    def insert(self, table_name, schema, values):\n",
    "        query_insert=\"insert into {0} ({1}) values ({2})\".format(table_name, schema, values)\n",
    "        cur=self.con.cursor()\n",
    "        cur.execute(query_insert)\n",
    "        self.con.commit()\n",
    "        print('Data is Inserted')\n",
    "    \n",
    "    def read_data(self, table_name, select_column):\n",
    "        query_select='select {1} from {0}'.format(table_name,select_column)\n",
    "        cur=self.con.cursor()\n",
    "        cur.execute(query_select)\n",
    "        row=cur.fetchall()\n",
    "        for i in row:\n",
    "            print(i)\n",
    "        print('Data from table')\n",
    "    \n",
    "    def update_table(self, table_name, set_condition, filter_condition):\n",
    "        query_update=\"update {0} set {1} where {2}\".format(table_name, set_condition, filter_condition)\n",
    "        cur=self.con.cursor()\n",
    "        cur.execute(query_update)\n",
    "        self.con.commit()\n",
    "        print('Data Updated')\n",
    "        \n",
    "    def delete(self,table_name, filter_condition):\n",
    "        query_delete='delete from {0} where {1}'.format(table_name,filter_condition)\n",
    "        cur=self.con.cursor()\n",
    "        cur.execute(query_delete)\n",
    "        self.con.commit()\n",
    "        print('Data Deleted')\n",
    "    \n",
    "    def join_table(self, t1,t2,cond1):\n",
    "        pass"
   ]
  },
  {
   "cell_type": "code",
   "execution_count": 5,
   "id": "6b2b5f09",
   "metadata": {},
   "outputs": [
    {
     "name": "stdout",
     "output_type": "stream",
     "text": [
      "Connection Established Successfully\n",
      "Table is Created\n"
     ]
    }
   ],
   "source": [
    "c=Connection('postgres','password','localhost','5432','new_db')\n",
    "\n",
    "table_name='emp_vish'\n",
    "schema='id int, name varchar(20)'\n",
    "\n",
    "c.create_table(table_name,schema)"
   ]
  },
  {
   "cell_type": "code",
   "execution_count": 6,
   "id": "586773b6",
   "metadata": {},
   "outputs": [
    {
     "name": "stdout",
     "output_type": "stream",
     "text": [
      "Connection Established Successfully\n",
      "Data is Inserted\n"
     ]
    }
   ],
   "source": [
    "c=Connection('postgres','password','localhost','5432','new_db')\n",
    "\n",
    "table_name='emp_vish'\n",
    "schema='id, name'\n",
    "values=\"2, 'Vishal'\"\n",
    "\n",
    "c.insert(table_name,schema,values)"
   ]
  },
  {
   "cell_type": "code",
   "execution_count": 7,
   "id": "480e16ec",
   "metadata": {},
   "outputs": [
    {
     "name": "stdout",
     "output_type": "stream",
     "text": [
      "Connection Established Successfully\n",
      "(10, 'Sagar')\n",
      "(2, 'Vishal')\n",
      "Data from table\n"
     ]
    }
   ],
   "source": [
    "c=Connection('postgres','password','localhost','5432','new_db')\n",
    "\n",
    "table_name='emp_vish'\n",
    "select_column='id,name'\n",
    "\n",
    "c.read_data(table_name,select_column)"
   ]
  },
  {
   "cell_type": "code",
   "execution_count": 8,
   "id": "001bf73e",
   "metadata": {},
   "outputs": [
    {
     "name": "stdout",
     "output_type": "stream",
     "text": [
      "Connection Established Successfully\n",
      "Data Updated\n"
     ]
    }
   ],
   "source": [
    "c=Connection('postgres','password','localhost','5432','new_db')\n",
    "\n",
    "table_name='emp_vish'\n",
    "set_condition='id=10'\n",
    "filter_condition='id=1'\n",
    "\n",
    "c.update_table(table_name, set_condition, filter_condition)"
   ]
  },
  {
   "cell_type": "code",
   "execution_count": 9,
   "id": "5a94d7a3",
   "metadata": {},
   "outputs": [
    {
     "name": "stdout",
     "output_type": "stream",
     "text": [
      "Connection Established Successfully\n",
      "Data Deleted\n"
     ]
    }
   ],
   "source": [
    "c=Connection('postgres','password','localhost','5432','new_db')\n",
    "\n",
    "table_name='emp_vish'\n",
    "filter_condition='id=2'\n",
    "\n",
    "c.delete(table_name, filter_condition)"
   ]
  },
  {
   "cell_type": "code",
   "execution_count": null,
   "id": "d7889564",
   "metadata": {},
   "outputs": [],
   "source": []
  }
 ],
 "metadata": {
  "kernelspec": {
   "display_name": "Python 3 (ipykernel)",
   "language": "python",
   "name": "python3"
  },
  "language_info": {
   "codemirror_mode": {
    "name": "ipython",
    "version": 3
   },
   "file_extension": ".py",
   "mimetype": "text/x-python",
   "name": "python",
   "nbconvert_exporter": "python",
   "pygments_lexer": "ipython3",
   "version": "3.8.5"
  }
 },
 "nbformat": 4,
 "nbformat_minor": 5
}
